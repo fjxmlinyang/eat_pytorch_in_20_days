{
 "cells": [
  {
   "cell_type": "markdown",
   "id": "b9ba269d",
   "metadata": {},
   "source": [
    "# 六、Pytorch的高阶API\n",
    "\n",
    "Pytorch没有官方的高阶API。一般通过nn.Module来构建模型并编写自定义训练循环。\n",
    "\n",
    "为了更加方便地训练模型，作者编写了仿keras的Pytorch模型接口：torchkeras.KerasModel/LightModel， 作为Pytorch的高阶API。\n",
    "\n",
    "本章我们主要详细介绍Pytorch的高阶API如下相关的内容。\n",
    "\n",
    "* 构建模型的3种方法(继承nn.Module基类，使用nn.Sequential，辅助应用模型容器)\n",
    "\n",
    "* 训练模型的3种方法(脚本风格，函数风格，torchkeras类风格)\n",
    "\n",
    "* 使用GPU训练模型(线性回归范例，图像分类范例)"
   ]
  },
  {
   "cell_type": "markdown",
   "id": "f6ff15bc",
   "metadata": {},
   "source": [
    "**如果本书对你有所帮助，想鼓励一下作者，记得给本项目加一颗星星star⭐️，并分享给你的朋友们喔😊!** \n",
    "\n",
    "如果对本书内容理解上有需要进一步和作者交流的地方，欢迎在公众号\"算法美食屋\"下留言。作者时间和精力有限，会酌情予以回复。\n",
    "\n",
    "也可以在公众号后台回复关键字：**加群**，加入读者交流群和大家讨论。\n",
    "\n",
    "![算法美食屋logo.png](https://tva1.sinaimg.cn/large/e6c9d24egy1h41m2zugguj20k00b9q46.jpg)"
   ]
  }
 ],
 "metadata": {
  "jupytext": {
   "cell_metadata_filter": "-all",
   "formats": "ipynb,md",
   "main_language": "python"
  }
 },
 "nbformat": 4,
 "nbformat_minor": 5
}
