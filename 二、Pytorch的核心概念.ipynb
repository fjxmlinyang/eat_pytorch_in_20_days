{
 "cells": [
  {
   "cell_type": "markdown",
   "id": "f2db8105",
   "metadata": {},
   "source": [
    "# 二、Pytorch的核心概念\n",
    "\n",
    "Pytorch是一个基于Python的机器学习库。它广泛应用于计算机视觉，自然语言处理等深度学习领域。是目前和TensorFlow分庭抗礼的深度学习框架，在学术圈颇受欢迎。\n",
    "\n",
    "它主要提供了以下两种核心功能：\n",
    "\n",
    "1，支持GPU加速的张量计算。\n",
    "\n",
    "2，方便优化模型的自动微分机制。"
   ]
  },
  {
   "cell_type": "markdown",
   "id": "b7c02e1c",
   "metadata": {},
   "source": [
    "Pytorch的主要优点：\n",
    "\n",
    "* 简洁易懂：Pytorch的API设计的相当简洁一致。基本上就是tensor, autograd, nn三级封装。学习起来非常容易。有一个这样的段子，说TensorFlow的设计哲学是 Make it complicated, Keras 的设计哲学是 Make it complicated and hide it, 而Pytorch的设计哲学是 Keep it simple and stupid.\n",
    "\n",
    "* 便于调试：Pytorch采用动态图，可以像普通Python代码一样进行调试。不同于TensorFlow, Pytorch的报错说明通常很容易看懂。有一个这样的段子，说你永远不可能从TensorFlow的报错说明中找到它出错的原因。\n",
    "\n",
    "* 强大高效：Pytorch提供了非常丰富的模型组件，可以快速实现想法。并且运行速度很快。目前大部分深度学习相关的Paper都是用Pytorch实现的。有些研究人员表示，从使用TensorFlow转换为使用Pytorch之后，他们的睡眠好多了，头发比以前浓密了，皮肤也比以前光滑了。\n"
   ]
  },
  {
   "cell_type": "markdown",
   "id": "cbeb0f14",
   "metadata": {},
   "source": [
    "俗话说，万丈高楼平地起，Pytorch这座大厦也有它的地基。\n",
    "\n",
    "Pytorch底层最核心的概念是张量，动态计算图以及自动微分。"
   ]
  },
  {
   "cell_type": "markdown",
   "id": "e0cc75eb",
   "metadata": {},
   "source": [
    "**如果本书对你有所帮助，想鼓励一下作者，记得给本项目加一颗星星star⭐️，并分享给你的朋友们喔😊!** \n",
    "\n",
    "如果对本书内容理解上有需要进一步和作者交流的地方，欢迎在公众号\"算法美食屋\"下留言。作者时间和精力有限，会酌情予以回复。\n",
    "\n",
    "也可以在公众号后台回复关键字：**加群**，加入读者交流群和大家讨论。\n",
    "\n",
    "![算法美食屋logo.png](https://tva1.sinaimg.cn/large/e6c9d24egy1h41m2zugguj20k00b9q46.jpg)"
   ]
  }
 ],
 "metadata": {
  "jupytext": {
   "cell_metadata_filter": "-all",
   "formats": "ipynb,md",
   "main_language": "python"
  }
 },
 "nbformat": 4,
 "nbformat_minor": 5
}
