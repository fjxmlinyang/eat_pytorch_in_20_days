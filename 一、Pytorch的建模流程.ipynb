{
 "cells": [
  {
   "cell_type": "markdown",
   "id": "9bdcfca7",
   "metadata": {},
   "source": [
    "# 一、Pytorch的建模流程"
   ]
  },
  {
   "cell_type": "markdown",
   "id": "91fefc2f",
   "metadata": {},
   "source": [
    "使用Pytorch实现神经网络模型的一般流程包括：\n",
    "\n",
    "1，准备数据\n",
    "\n",
    "2，定义模型\n",
    "\n",
    "3，训练模型\n",
    "\n",
    "4，评估模型\n",
    "\n",
    "5，使用模型\n",
    "\n",
    "6，保存模型。\n",
    "\n",
    "\n",
    "**对新手来说，其中最困难的部分实际上是准备数据过程。** \n",
    "\n",
    "我们在实践中通常会遇到的数据类型包括结构化数据，图片数据，文本数据，时间序列数据。\n",
    "\n",
    "我们将分别以titanic生存预测问题，cifar2图片分类问题，imdb电影评论分类问题，国内新冠疫情结束时间预测问题为例，演示应用Pytorch对这四类数据的建模方法。\n",
    "\n"
   ]
  },
  {
   "cell_type": "markdown",
   "id": "d34ad08b",
   "metadata": {},
   "source": [
    "**如果本书对你有所帮助，想鼓励一下作者，记得给本项目加一颗星星star⭐️，并分享给你的朋友们喔😊!** \n",
    "\n",
    "如果对本书内容理解上有需要进一步和作者交流的地方，欢迎在公众号\"算法美食屋\"下留言。作者时间和精力有限，会酌情予以回复。\n",
    "\n",
    "也可以在公众号后台回复关键字：**加群**，加入读者交流群和大家讨论。\n",
    "\n",
    "![算法美食屋logo.png](https://tva1.sinaimg.cn/large/e6c9d24egy1h41m2zugguj20k00b9q46.jpg)\n"
   ]
  }
 ],
 "metadata": {
  "jupytext": {
   "cell_metadata_filter": "-all",
   "formats": "ipynb,md",
   "main_language": "python"
  }
 },
 "nbformat": 4,
 "nbformat_minor": 5
}
