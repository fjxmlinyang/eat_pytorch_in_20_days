{
 "cells": [
  {
   "cell_type": "markdown",
   "id": "51c5f7c1",
   "metadata": {
    "lines_to_next_cell": 0
   },
   "source": [
    "# 彩蛋：Pytorch周边工具\n",
    "\n",
    "\n",
    "本章将介绍一些Pytorch相关的实用工具。\n",
    "\n",
    "例如：\n",
    "\n",
    "* Kaggle免费GPU使用攻略\n",
    "\n",
    "* Streamlit构建机器学习应用\n",
    "\n",
    "* Optuna调参工具\n",
    "\n",
    "\n",
    "本部分内容尚在不断更新中。。。\n",
    "\n"
   ]
  },
  {
   "cell_type": "markdown",
   "id": "c024c512",
   "metadata": {},
   "source": [
    "\n",
    "\n",
    "\n",
    "\n",
    "\n",
    "\n",
    "\n",
    "\n",
    "\n",
    "\n"
   ]
  },
  {
   "cell_type": "markdown",
   "id": "1447996d",
   "metadata": {},
   "source": [
    "**如果本书对你有所帮助，想鼓励一下作者，记得给本项目加一颗星星star⭐️，并分享给你的朋友们喔😊!** \n",
    "\n",
    "如果对本书内容理解上有需要进一步和作者交流的地方，欢迎在公众号\"算法美食屋\"下留言。作者时间和精力有限，会酌情予以回复。\n",
    "\n",
    "也可以在公众号后台回复关键字：**加群**，加入读者交流群和大家讨论。\n",
    "\n",
    "![算法美食屋logo.png](https://tva1.sinaimg.cn/large/e6c9d24egy1h41m2zugguj20k00b9q46.jpg)"
   ]
  }
 ],
 "metadata": {
  "jupytext": {
   "cell_metadata_filter": "-all",
   "main_language": "python"
  },
  "kernelspec": {
   "display_name": "Python 3",
   "language": "python",
   "name": "python3"
  },
  "language_info": {
   "codemirror_mode": {
    "name": "ipython",
    "version": 3
   },
   "file_extension": ".py",
   "mimetype": "text/x-python",
   "name": "python",
   "nbconvert_exporter": "python",
   "pygments_lexer": "ipython3",
   "version": "3.8.8"
  }
 },
 "nbformat": 4,
 "nbformat_minor": 5
}
