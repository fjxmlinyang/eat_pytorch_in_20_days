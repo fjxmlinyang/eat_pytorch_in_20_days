{
 "cells": [
  {
   "cell_type": "markdown",
   "id": "51c5f7c1",
   "metadata": {
    "lines_to_next_cell": 0
   },
   "source": [
    "# 七、Pytorch与广告推荐\n",
    "\n",
    "\n",
    "根据业务和技术方向的差异性，目前工业界的算法工程师主要可以分成 广告算法工程师、推荐算法工程师、风控算法工程师、CV算法工程师、NLP算法工程师、 等等。\n",
    "\n",
    "除了一些多模态数据外(文本、图像、社交网络等)，广告算法工程师、推荐算法工程师、风控算法工程师处理的数据类型主要还是是结构化数据，\n",
    "\n",
    "风控领域目前工业界用到的模型还是树模型为主，广告和推荐领域目前工业界是深度模型为主。\n",
    "\n",
    "由于数据结构的相似性，广告的CTR预估模型和推荐系统的精排模型，基本是通用的。\n",
    "\n",
    "本章将首先概述推荐算法和广告算法的基础业务知识，然后深入了解一些经典的CTR预估/精排模型，并在Criteo数据集或者Movielens数据集上演示完整范例。\n",
    "\n",
    "\n",
    "包括：FM、DeepFM、FiBiNET、DeepCross、DIN、DIEN。\n",
    "\n"
   ]
  },
  {
   "cell_type": "markdown",
   "id": "c024c512",
   "metadata": {},
   "source": [
    "\n",
    "\n",
    "\n",
    "\n",
    "\n",
    "\n",
    "\n",
    "\n",
    "\n",
    "\n"
   ]
  },
  {
   "cell_type": "markdown",
   "id": "1447996d",
   "metadata": {},
   "source": [
    "**如果本书对你有所帮助，想鼓励一下作者，记得给本项目加一颗星星star⭐️，并分享给你的朋友们喔😊!** \n",
    "\n",
    "如果对本书内容理解上有需要进一步和作者交流的地方，欢迎在公众号\"算法美食屋\"下留言。作者时间和精力有限，会酌情予以回复。\n",
    "\n",
    "也可以在公众号后台回复关键字：**加群**，加入读者交流群和大家讨论。\n",
    "\n",
    "![算法美食屋logo.png](https://tva1.sinaimg.cn/large/e6c9d24egy1h41m2zugguj20k00b9q46.jpg)"
   ]
  }
 ],
 "metadata": {
  "jupytext": {
   "cell_metadata_filter": "-all",
   "formats": "ipynb,md",
   "main_language": "python"
  },
  "kernelspec": {
   "display_name": "Python 3",
   "language": "python",
   "name": "python3"
  },
  "language_info": {
   "codemirror_mode": {
    "name": "ipython",
    "version": 3
   },
   "file_extension": ".py",
   "mimetype": "text/x-python",
   "name": "python",
   "nbconvert_exporter": "python",
   "pygments_lexer": "ipython3",
   "version": "3.8.8"
  }
 },
 "nbformat": 4,
 "nbformat_minor": 5
}
