{
 "cells": [
  {
   "cell_type": "markdown",
   "id": "c9f5fbaa",
   "metadata": {},
   "source": [
    "# 四、Pytorch的低阶API\n",
    "\n",
    "Pytorch的低阶API主要包括张量操作，动态计算图和自动微分。\n",
    "\n",
    "如果把模型比作一个房子，那么低阶API就是【模型之砖】。\n",
    "\n",
    "在低阶API层次上，可以把Pytorch当做一个增强版的numpy来使用。\n",
    "\n",
    "Pytorch提供的方法比numpy更全面，运算速度更快，如果需要的话，还可以使用GPU进行加速。\n",
    "\n",
    "前面几章我们对低阶API已经有了一个整体的认识，本章我们将重点详细介绍张量操作和 nn.Module参数管理功能。\n"
   ]
  },
  {
   "cell_type": "markdown",
   "id": "9351a20f",
   "metadata": {},
   "source": [
    "张量的操作主要包括张量的结构操作和张量的数学运算。\n",
    "\n",
    "张量结构操作诸如：张量创建，索引切片，维度变换，合并分割。\n",
    "\n",
    "张量数学运算主要有：标量运算，向量运算，矩阵运算，以及 使用非常强大而灵活的爱因斯坦求和函数torch.einsum进行任意阶的张量运算。另外我们会介绍张量运算的广播机制。\n",
    "\n",
    "nn.Module除了可以管理参数外，还可以管理子模块。\n",
    "\n"
   ]
  },
  {
   "cell_type": "markdown",
   "id": "2bbb3022",
   "metadata": {},
   "source": [
    "**如果本书对你有所帮助，想鼓励一下作者，记得给本项目加一颗星星star⭐️，并分享给你的朋友们喔😊!** \n",
    "\n",
    "如果对本书内容理解上有需要进一步和作者交流的地方，欢迎在公众号\"算法美食屋\"下留言。作者时间和精力有限，会酌情予以回复。\n",
    "\n",
    "也可以在公众号后台回复关键字：**加群**，加入读者交流群和大家讨论。\n",
    "\n",
    "![算法美食屋logo.png](https://tva1.sinaimg.cn/large/e6c9d24egy1h41m2zugguj20k00b9q46.jpg)"
   ]
  }
 ],
 "metadata": {
  "jupytext": {
   "cell_metadata_filter": "-all",
   "main_language": "python"
  },
  "kernelspec": {
   "display_name": "Python 3",
   "language": "python",
   "name": "python3"
  },
  "language_info": {
   "codemirror_mode": {
    "name": "ipython",
    "version": 3
   },
   "file_extension": ".py",
   "mimetype": "text/x-python",
   "name": "python",
   "nbconvert_exporter": "python",
   "pygments_lexer": "ipython3",
   "version": "3.8.8"
  }
 },
 "nbformat": 4,
 "nbformat_minor": 5
}
